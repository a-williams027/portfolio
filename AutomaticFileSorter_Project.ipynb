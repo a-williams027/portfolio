{
 "cells": [
  {
   "cell_type": "markdown",
   "id": "b524e4ac-7d52-46f2-967a-0e7cfa62a145",
   "metadata": {},
   "source": [
    "Organizing Files on Desktop"
   ]
  },
  {
   "cell_type": "code",
   "execution_count": 115,
   "id": "9e8d91b5-7fb3-463a-aea3-efed08037443",
   "metadata": {},
   "outputs": [],
   "source": [
    "import os, shutil"
   ]
  },
  {
   "cell_type": "code",
   "execution_count": 117,
   "id": "1771dc45-6fca-48af-898e-ee4754bca89c",
   "metadata": {},
   "outputs": [],
   "source": [
    "# path to desktop and to the folder I want to move items to\n",
    "desktop = r'/Users/amandawilliams/Desktop/'\n",
    "path = r'/Users/amandawilliams/Desktop/AW Grad School/'\n",
    "photos = r'/Users/amandawilliams/Desktop/AW Personal/'"
   ]
  },
  {
   "cell_type": "code",
   "execution_count": 119,
   "id": "bd5ad00c-7b65-49f4-90eb-35748e5b9628",
   "metadata": {},
   "outputs": [],
   "source": [
    "# set desktop directory to a variable called directory\n",
    "directory = os.listdir(desktop)"
   ]
  },
  {
   "cell_type": "code",
   "execution_count": 103,
   "id": "8f0d465d-1291-471d-9931-51ff4613ad22",
   "metadata": {},
   "outputs": [
    {
     "data": {
      "text/plain": [
       "['Williams_PinterestCL.pdf',\n",
       " 'BWilliams_MedicalForm.pdf',\n",
       " 'MSISExamReview.docx',\n",
       " 'Photo 8.20.24.jpg',\n",
       " '.DS_Store',\n",
       " 'Installs',\n",
       " 'BAN5743Exercise4- Example.pdf',\n",
       " '.localized',\n",
       " 'Client Summary_6Months.xlsx',\n",
       " 'Daycare timesheets 2024-08-16_2024-08-22.xlsx',\n",
       " 'merged_client.xlsx',\n",
       " 'AW Work',\n",
       " 'Dallyn Christmas List.mov',\n",
       " 'AW Grad School',\n",
       " 'bmi_calculator.py',\n",
       " 'Gossy Video.mov',\n",
       " 'Williams_InternResume.pdf',\n",
       " 'Apex Teams Spring Schedule.xlsx',\n",
       " 'app.py',\n",
       " 'MR_StatisticsHomework_A.Williams.R',\n",
       " 'AW Personal',\n",
       " 'A.Williams_Assignment5.docx',\n",
       " '~$Apex Teams Spring Schedule 2.xlsx',\n",
       " 'BWilliams_MinorForm.pdf',\n",
       " 'BWilliams_ConductForm.pdf',\n",
       " 'BWilliams_MediaForm.pdf',\n",
       " 'dashboard_webinar.xlsx',\n",
       " 'Gossy Scout.HEIC',\n",
       " 'Apex Teams Spring Schedule 2.xlsx',\n",
       " 'Christmas List 2024.xlsx',\n",
       " 'SPS Enrollment 24-25.pdf',\n",
       " 'Morbidity and Mortality 1.2025.pptx']"
      ]
     },
     "execution_count": 103,
     "metadata": {},
     "output_type": "execute_result"
    }
   ],
   "source": [
    "# look at documents on the desktop\n",
    "os.listdir(desktop)"
   ]
  },
  {
   "cell_type": "code",
   "execution_count": 133,
   "id": "6cf11661-b87c-43e1-9a86-294f3aa4c135",
   "metadata": {},
   "outputs": [
    {
     "name": "stdout",
     "output_type": "stream",
     "text": [
      "This folder exists\n"
     ]
    }
   ],
   "source": [
    "# check if folders exist within my path and if not, create them\n",
    "if not os.path.exists(path + 'screenshots'):\n",
    "    os.makedirs(path + 'screenshots')\n",
    "if os.path.exists(path + 'screenshots'):\n",
    "    print('This folder exists')\n",
    "\n",
    "# check if folders exist within my folder and if not, create them\n",
    "if not os.path.exists(photos + 'photos'):\n",
    "    os.makedirs(photos + 'photos')"
   ]
  },
  {
   "cell_type": "code",
   "execution_count": 55,
   "id": "16f21e18-e994-4bad-a9f3-870d4b9892fd",
   "metadata": {},
   "outputs": [],
   "source": [
    "# move Screen Shot files to the screenshots folder\n",
    "for file in directory:\n",
    "    if 'Screen Shot' in file and not os.path.exists(path + 'screenshots/' + file):\n",
    "        shutil.move(desktop + file, path + 'screenshots/')"
   ]
  },
  {
   "cell_type": "code",
   "execution_count": 101,
   "id": "9d970e1b-1cb8-4088-90e1-3839b7868eb0",
   "metadata": {},
   "outputs": [],
   "source": [
    "# create a list of remaining screenshot files and loop through the list to move the files to the screenshots folder\n",
    "screenshot_list = ['Screenshot 2024-11-04 at 9.51.49\\u202fPM.png', 'Screenshot 2024-10-31 at 12.11.34\\u202fAM.png', 'Screenshot 2024-10-31 at 1.39.22\\u202fAM.png',\n",
    "                   'Screenshot 2024-10-30 at 10.07.49\\u202fPM.png',\n",
    " 'Screenshot 2024-10-23 at 10.25.40\\u202fPM.png',\n",
    " 'Screenshot 2024-11-04 at 9.58.39\\u202fPM.png',\n",
    " 'Screenshot 2024-11-04 at 9.58.27\\u202fPM.png',\n",
    " 'Screenshot 2024-10-23 at 7.47.09\\u202fPM.png',\n",
    " 'Screenshot 2024-10-31 at 1.34.41\\u202fAM.png']\n",
    "for file in screenshot_list:\n",
    "    if os.path.exists(desktop + file) and not os.path.exists(os.path.join(path, 'screenshots/', file)):\n",
    "        shutil.move(os.path.join(desktop, file), os.path.join(path, 'screenshots/'))"
   ]
  },
  {
   "cell_type": "code",
   "execution_count": 135,
   "id": "57af30eb-61ab-4722-96ee-65c681005a83",
   "metadata": {},
   "outputs": [],
   "source": [
    "# move photos on the Desktop to the photos folder\n",
    "for file in directory:\n",
    "    if '.jpg' in file and not os.path.exists(photos + 'photos/' + file):\n",
    "        shutil.move(desktop + file, photos + 'photos/')"
   ]
  },
  {
   "cell_type": "code",
   "execution_count": null,
   "id": "14574f37-1ea2-429a-984b-fc50bc3f7fcd",
   "metadata": {},
   "outputs": [],
   "source": []
  }
 ],
 "metadata": {
  "kernelspec": {
   "display_name": "Python 3 (ipykernel)",
   "language": "python",
   "name": "python3"
  },
  "language_info": {
   "codemirror_mode": {
    "name": "ipython",
    "version": 3
   },
   "file_extension": ".py",
   "mimetype": "text/x-python",
   "name": "python",
   "nbconvert_exporter": "python",
   "pygments_lexer": "ipython3",
   "version": "3.12.4"
  }
 },
 "nbformat": 4,
 "nbformat_minor": 5
}
